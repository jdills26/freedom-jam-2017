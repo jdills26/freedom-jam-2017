{
 "cells": [
  {
   "cell_type": "markdown",
   "metadata": {
    "colab_type": "text",
    "id": "D7tqLMoKF6uq"
   },
   "source": [
    "## Twitter data exploration part 2\n",
    "\n",
    "### Working with Text Data and Naive Bayes in scikit-learn\n",
    "#### idea: can we pull in other tweets and classify them as pro-ISIS or not?"
   ]
  },
  {
   "cell_type": "markdown",
   "metadata": {},
   "source": [
    "find a dataset of tweets: http://help.sentiment140.com/for-students/\n",
    "\n",
    "or get your own using the twitter api"
   ]
  },
  {
   "cell_type": "markdown",
   "metadata": {},
   "source": [
    "read the docs for info on text feature extraction: http://scikit-learn.org/stable/modules/feature_extraction.html#text-feature-extraction"
   ]
  },
  {
   "cell_type": "code",
   "execution_count": 6,
   "metadata": {
    "collapsed": true
   },
   "outputs": [],
   "source": [
    "import pandas as pd\n",
    "import numpy as np\n",
    "import warnings\n",
    "warnings.filterwarnings(\"ignore\")"
   ]
  },
  {
   "cell_type": "code",
   "execution_count": 7,
   "metadata": {
    "collapsed": false
   },
   "outputs": [],
   "source": [
    "random_tweets = pd.read_csv('new_tweets.csv', encoding='iso-8859-1')"
   ]
  },
  {
   "cell_type": "code",
   "execution_count": 8,
   "metadata": {
    "collapsed": false
   },
   "outputs": [
    {
     "data": {
      "text/plain": [
       "(1048575, 3)"
      ]
     },
     "execution_count": 8,
     "metadata": {},
     "output_type": "execute_result"
    }
   ],
   "source": [
    "random_tweets.shape"
   ]
  },
  {
   "cell_type": "code",
   "execution_count": 9,
   "metadata": {
    "collapsed": false
   },
   "outputs": [],
   "source": [
    "#lets take a smaller subset of this dataframe\n",
    "new_tweets = random_tweets[:17410]\n",
    "#add label to know which dataset the tweet came from when we combine and predict later\n",
    "new_tweets['label']=0"
   ]
  },
  {
   "cell_type": "code",
   "execution_count": 10,
   "metadata": {
    "collapsed": true
   },
   "outputs": [],
   "source": [
    "pro_isis=pd.read_csv('tweets.csv')"
   ]
  },
  {
   "cell_type": "code",
   "execution_count": 11,
   "metadata": {
    "collapsed": true
   },
   "outputs": [],
   "source": [
    "pro_isis['label']=1"
   ]
  },
  {
   "cell_type": "code",
   "execution_count": 12,
   "metadata": {
    "collapsed": false
   },
   "outputs": [],
   "source": [
    "combined = pd.concat([new_tweets, pro_isis[['username', 'time', 'tweets','label']]], axis=0)"
   ]
  },
  {
   "cell_type": "code",
   "execution_count": 13,
   "metadata": {
    "collapsed": false,
    "scrolled": true
   },
   "outputs": [
    {
     "data": {
      "text/html": [
       "<div>\n",
       "<table border=\"1\" class=\"dataframe\">\n",
       "  <thead>\n",
       "    <tr style=\"text-align: right;\">\n",
       "      <th></th>\n",
       "      <th>label</th>\n",
       "      <th>time</th>\n",
       "      <th>tweets</th>\n",
       "      <th>username</th>\n",
       "    </tr>\n",
       "  </thead>\n",
       "  <tbody>\n",
       "    <tr>\n",
       "      <th>0</th>\n",
       "      <td>0</td>\n",
       "      <td>Mon Apr 06 22:19:49 PDT 2009</td>\n",
       "      <td>is upset that he can't update his Facebook by ...</td>\n",
       "      <td>scotthamilton</td>\n",
       "    </tr>\n",
       "    <tr>\n",
       "      <th>1</th>\n",
       "      <td>0</td>\n",
       "      <td>Mon Apr 06 22:19:53 PDT 2009</td>\n",
       "      <td>@Kenichan I dived many times for the ball. Man...</td>\n",
       "      <td>mattycus</td>\n",
       "    </tr>\n",
       "    <tr>\n",
       "      <th>2</th>\n",
       "      <td>0</td>\n",
       "      <td>Mon Apr 06 22:19:57 PDT 2009</td>\n",
       "      <td>my whole body feels itchy and like its on fire</td>\n",
       "      <td>ElleCTF</td>\n",
       "    </tr>\n",
       "    <tr>\n",
       "      <th>3</th>\n",
       "      <td>0</td>\n",
       "      <td>Mon Apr 06 22:19:57 PDT 2009</td>\n",
       "      <td>@nationwideclass no, it's not behaving at all....</td>\n",
       "      <td>Karoli</td>\n",
       "    </tr>\n",
       "    <tr>\n",
       "      <th>4</th>\n",
       "      <td>0</td>\n",
       "      <td>Mon Apr 06 22:20:00 PDT 2009</td>\n",
       "      <td>@Kwesidei not the whole crew</td>\n",
       "      <td>joy_wolf</td>\n",
       "    </tr>\n",
       "  </tbody>\n",
       "</table>\n",
       "</div>"
      ],
      "text/plain": [
       "   label                          time  \\\n",
       "0      0  Mon Apr 06 22:19:49 PDT 2009   \n",
       "1      0  Mon Apr 06 22:19:53 PDT 2009   \n",
       "2      0  Mon Apr 06 22:19:57 PDT 2009   \n",
       "3      0  Mon Apr 06 22:19:57 PDT 2009   \n",
       "4      0  Mon Apr 06 22:20:00 PDT 2009   \n",
       "\n",
       "                                              tweets       username  \n",
       "0  is upset that he can't update his Facebook by ...  scotthamilton  \n",
       "1  @Kenichan I dived many times for the ball. Man...       mattycus  \n",
       "2    my whole body feels itchy and like its on fire         ElleCTF  \n",
       "3  @nationwideclass no, it's not behaving at all....         Karoli  \n",
       "4                      @Kwesidei not the whole crew        joy_wolf  "
      ]
     },
     "execution_count": 13,
     "metadata": {},
     "output_type": "execute_result"
    }
   ],
   "source": [
    "combined.head()"
   ]
  },
  {
   "cell_type": "code",
   "execution_count": 14,
   "metadata": {
    "collapsed": false
   },
   "outputs": [
    {
     "data": {
      "text/plain": [
       "(34820, 4)"
      ]
     },
     "execution_count": 14,
     "metadata": {},
     "output_type": "execute_result"
    }
   ],
   "source": [
    "combined.shape"
   ]
  },
  {
   "cell_type": "code",
   "execution_count": 15,
   "metadata": {
    "collapsed": true
   },
   "outputs": [],
   "source": [
    "#Below code adapted from an inclass exercise from my data science class at General Assembly - DC - March 2016"
   ]
  },
  {
   "cell_type": "code",
   "execution_count": 16,
   "metadata": {
    "collapsed": true
   },
   "outputs": [],
   "source": [
    "# define X and y\n",
    "#X is the column containing the text of the tweet\n",
    "X = combined.tweets\n",
    "#y is the label we added - 0 if from non-ISIS twitter dataset, 1 if from ISIS fan twitter dataset\n",
    "y = combined.label"
   ]
  },
  {
   "cell_type": "code",
   "execution_count": 17,
   "metadata": {
    "collapsed": false
   },
   "outputs": [
    {
     "name": "stdout",
     "output_type": "stream",
     "text": [
      "(26115,) (26115,)\n",
      "(8705,) (8705,)\n"
     ]
    }
   ],
   "source": [
    "# split into training and testing sets\n",
    "from sklearn.model_selection import train_test_split\n",
    "X_train, X_test, y_train, y_test = train_test_split(X, y, random_state=1, stratify=y)\n",
    "print(X_train.shape, y_train.shape)\n",
    "print(X_test.shape, y_test.shape)"
   ]
  },
  {
   "cell_type": "code",
   "execution_count": 18,
   "metadata": {
    "collapsed": true
   },
   "outputs": [],
   "source": [
    "from sklearn.feature_extraction.text import CountVectorizer"
   ]
  },
  {
   "cell_type": "code",
   "execution_count": 19,
   "metadata": {
    "collapsed": true
   },
   "outputs": [],
   "source": [
    "# instantiate the vectorizer\n",
    "vect = CountVectorizer()"
   ]
  },
  {
   "cell_type": "code",
   "execution_count": 20,
   "metadata": {
    "collapsed": false
   },
   "outputs": [
    {
     "data": {
      "text/plain": [
       "<26115x44513 sparse matrix of type '<class 'numpy.int64'>'\n",
       "\twith 359288 stored elements in Compressed Sparse Row format>"
      ]
     },
     "execution_count": 20,
     "metadata": {},
     "output_type": "execute_result"
    }
   ],
   "source": [
    "# learn training data vocabulary, then create document-term matrix\n",
    "# combine fit and transform into a single step\n",
    "X_train_dtm = vect.fit_transform(X_train)\n",
    "X_train_dtm"
   ]
  },
  {
   "cell_type": "code",
   "execution_count": 21,
   "metadata": {
    "collapsed": false
   },
   "outputs": [
    {
     "data": {
      "text/plain": [
       "<8705x44513 sparse matrix of type '<class 'numpy.int64'>'\n",
       "\twith 110240 stored elements in Compressed Sparse Row format>"
      ]
     },
     "execution_count": 21,
     "metadata": {},
     "output_type": "execute_result"
    }
   ],
   "source": [
    "# transform testing data (using fitted vocabulary) into a document-term matrix\n",
    "X_test_dtm = vect.transform(X_test)\n",
    "X_test_dtm"
   ]
  },
  {
   "cell_type": "code",
   "execution_count": 22,
   "metadata": {
    "collapsed": true
   },
   "outputs": [],
   "source": [
    "# store token names\n",
    "X_train_tokens = vect.get_feature_names()"
   ]
  },
  {
   "cell_type": "code",
   "execution_count": 23,
   "metadata": {
    "collapsed": false
   },
   "outputs": [
    {
     "name": "stdout",
     "output_type": "stream",
     "text": [
      "['00', '000', '0000', '000s', '002', '00am', '00hhqvgwng', '00klaxxhb8', '00pm', '00rebel_umm', '00wytaqd0b', '01', '01sak_', '01yyag5osu', '02', '02am', '02hijbrguk', '03', '0332zzzopm', '04', '04_8_1437', '05', '055brigade', '05am', '05om1fdrsf', '05pm', '06afxzoivs', '06fnh', '06kill56', '06zufezmpq', '07', '07899000930', '07am', '07dxtibpab', '07fzl09eny', '07ld37pwca', '08', '08am', '08ecl', '08gmtkagnu', '08swnllkjy', '09', '096', '0_0', '0a7knioyll', '0ahoovyt5b', '0ajaf2ys6i', '0aqck2x09r', '0b2', '0b6bnzn1xs']\n"
     ]
    }
   ],
   "source": [
    "# first 50 tokens\n",
    "print(X_train_tokens[:50])"
   ]
  },
  {
   "cell_type": "code",
   "execution_count": 24,
   "metadata": {
    "collapsed": false
   },
   "outputs": [
    {
     "name": "stdout",
     "output_type": "stream",
     "text": [
      "['ھلاک', 'ھے', 'ہاتھوں', 'ہزیان', 'ہمدردی', 'ہو', 'ہوا', 'ہوگئی', 'ہوگئے', 'ہوگیا', 'ہوے', 'ہیڈ', 'ہیں', 'ہے', 'ہےجسکاتعلق', 'یا', 'یلدا', 'یہ', 'یہی', 'আখ', 'আল', 'ইক', 'ওয', 'শসহ', 'ḥalab', 'ḥamzah', 'ṣadiq', 'ṭāġūt', '新宿高島屋11階の綺麗なムッサラーで礼拝', '日本男児たるもの', 'ﺃﻟﻔﺎ', 'ﺍﻋﺘﺒﺮ', 'ﺍﻟﻔﺎ', 'ﺍﻧﺘﻢ', 'ﺛﻢ', 'ﺣﺬﻭﻛﻢ', 'ﻋﺒﺮﺓ', 'ﻓﻮﺍﻟﻠﻪ', 'ﻟﻤﻦ', 'ﻟﻦ', 'ﻟﻨﺴﺤﺒﻨﻜﻢ', 'ﻣﻨﻜﻢ', 'ﻧﺒﻖ', 'ﻧﺬﺭ', 'ﻭﺍﻟﻠﻪ', 'ﻭﻟﻦ', 'ﻭﻟﻨﺠﻌﻠﻨﻜﻢ', 'ﻭﻣﻦ', 'ﻮﻥ', 'ﻳﺤﺬﻭ']\n"
     ]
    }
   ],
   "source": [
    "# last 50 tokens\n",
    "print(X_train_tokens[-50:])"
   ]
  },
  {
   "cell_type": "code",
   "execution_count": 25,
   "metadata": {
    "collapsed": false
   },
   "outputs": [
    {
     "data": {
      "text/plain": [
       "array([[0, 0, 0, ..., 0, 0, 0],\n",
       "       [0, 0, 0, ..., 0, 0, 0],\n",
       "       [0, 0, 0, ..., 0, 0, 0],\n",
       "       ..., \n",
       "       [0, 0, 0, ..., 0, 0, 0],\n",
       "       [0, 0, 0, ..., 0, 0, 0],\n",
       "       [0, 0, 0, ..., 0, 0, 0]], dtype=int64)"
      ]
     },
     "execution_count": 25,
     "metadata": {},
     "output_type": "execute_result"
    }
   ],
   "source": [
    "# view X_train_dtm as a dense matrix\n",
    "X_train_dtm.toarray()"
   ]
  },
  {
   "cell_type": "code",
   "execution_count": 26,
   "metadata": {
    "collapsed": false
   },
   "outputs": [
    {
     "data": {
      "text/plain": [
       "array([17, 74,  1, ...,  1,  1,  1], dtype=int64)"
      ]
     },
     "execution_count": 26,
     "metadata": {},
     "output_type": "execute_result"
    }
   ],
   "source": [
    "# count how many times EACH token appears across ALL messages in X_train_dtm\n",
    "X_train_counts = np.sum(X_train_dtm.toarray(), axis=0)\n",
    "X_train_counts"
   ]
  },
  {
   "cell_type": "code",
   "execution_count": 27,
   "metadata": {
    "collapsed": true
   },
   "outputs": [],
   "source": [
    "# optional: uncomment to create a DataFrame of tokens with their counts\n",
    "#token_counts = pd.DataFrame({'token':X_train_tokens, 'count':X_train_counts}).sort_values(by='count', ascending=True)"
   ]
  },
  {
   "cell_type": "markdown",
   "metadata": {},
   "source": [
    "The multinomial Naive Bayes classifier is suitable for classification with discrete features (e.g., word counts for text classification). The multinomial distribution normally requires integer feature counts. However, in practice, fractional counts such as tf-idf may also work.\n",
    "\n",
    "http://scikit-learn.org/stable/modules/generated/sklearn.naive_bayes.MultinomialNB.html"
   ]
  },
  {
   "cell_type": "code",
   "execution_count": 28,
   "metadata": {
    "collapsed": false
   },
   "outputs": [
    {
     "data": {
      "text/plain": [
       "MultinomialNB(alpha=1.0, class_prior=None, fit_prior=True)"
      ]
     },
     "execution_count": 28,
     "metadata": {},
     "output_type": "execute_result"
    }
   ],
   "source": [
    "# train a Naive Bayes model using X_train_dtm\n",
    "from sklearn.naive_bayes import MultinomialNB, GaussianNB\n",
    "nb = MultinomialNB()\n",
    "nb.fit(X_train_dtm, y_train)"
   ]
  },
  {
   "cell_type": "code",
   "execution_count": 29,
   "metadata": {
    "collapsed": true
   },
   "outputs": [],
   "source": [
    "# make class predictions for X_test_dtm\n",
    "y_pred_class = nb.predict(X_test_dtm)"
   ]
  },
  {
   "cell_type": "code",
   "execution_count": 30,
   "metadata": {
    "collapsed": false
   },
   "outputs": [
    {
     "name": "stdout",
     "output_type": "stream",
     "text": [
      "0.972085008616\n"
     ]
    }
   ],
   "source": [
    "# calculate accuracy of class predictions\n",
    "from sklearn import metrics\n",
    "print(metrics.accuracy_score(y_test, y_pred_class))"
   ]
  },
  {
   "cell_type": "code",
   "execution_count": 31,
   "metadata": {
    "collapsed": false
   },
   "outputs": [
    {
     "name": "stdout",
     "output_type": "stream",
     "text": [
      "             precision    recall  f1-score   support\n",
      "\n",
      "          0       0.95      0.99      0.97      4352\n",
      "          1       0.99      0.95      0.97      4353\n",
      "\n",
      "avg / total       0.97      0.97      0.97      8705\n",
      "\n"
     ]
    }
   ],
   "source": [
    "print(metrics.classification_report(y_test, y_pred_class))"
   ]
  },
  {
   "cell_type": "code",
   "execution_count": 32,
   "metadata": {
    "collapsed": false
   },
   "outputs": [
    {
     "name": "stdout",
     "output_type": "stream",
     "text": [
      "[[4322   30]\n",
      " [ 213 4140]]\n"
     ]
    }
   ],
   "source": [
    "# confusion matrix\n",
    "print(metrics.confusion_matrix(y_test, y_pred_class))"
   ]
  },
  {
   "cell_type": "code",
   "execution_count": 33,
   "metadata": {
    "collapsed": false
   },
   "outputs": [
    {
     "data": {
      "text/plain": [
       "array([  1.00000000e+00,   1.00000000e+00,   1.00000000e+00, ...,\n",
       "         8.28461746e-08,   7.35653454e-01,   1.35103253e-03])"
      ]
     },
     "execution_count": 33,
     "metadata": {},
     "output_type": "execute_result"
    }
   ],
   "source": [
    "# predict (poorly calibrated) probabilities\n",
    "y_pred_prob = nb.predict_proba(X_test_dtm)[:, 1]\n",
    "y_pred_prob"
   ]
  },
  {
   "cell_type": "code",
   "execution_count": 34,
   "metadata": {
    "collapsed": false
   },
   "outputs": [
    {
     "name": "stdout",
     "output_type": "stream",
     "text": [
      "0.993953787364\n"
     ]
    }
   ],
   "source": [
    "# calculate AUC\n",
    "print(metrics.roc_auc_score(y_test, y_pred_prob))"
   ]
  },
  {
   "cell_type": "code",
   "execution_count": 35,
   "metadata": {
    "collapsed": false
   },
   "outputs": [
    {
     "data": {
      "text/plain": [
       "10005    Hrm, scanner traffic diminishes greatly when y...\n",
       "10233            @Ishme3t these are the mysteries of life \n",
       "13396              The Indians scored 13 runs in 1 inning \n",
       "12955                                     @ShAiNaBeLu Sep \n",
       "3557     @itspink WHAT?BOYZONE ARE REFORMING???I'm neve...\n",
       "16304    University of Texas at Austin or South Western...\n",
       "4723     CBI is Congress Bureau of Investigation. ...It...\n",
       "3719          March sales reports done... hardly worth it \n",
       "5020     Why can't Excel 2003 handle more than 7 nested...\n",
       "3781     NBCNews reporting Pres Chief Econ guy #Summers...\n",
       "3319                         soluna is slower than accord \n",
       "9192                                    is @ the AA Hotel \n",
       "17168    @AgentMan1 You're really into the US Armed For...\n",
       "14339    @IvyEnvy the cubs are rated 8th in MLB, 4th in...\n",
       "12566         Wants to be followed by the King of Twitter \n",
       "1667     @grahamcracker  If only you were working in th...\n",
       "17309        @zjelektra the news...  the pronounciation...\n",
       "16416                          @BelieverNLove they were!! \n",
       "4064     Ako sa lahko a lacno dostat ku knihe Normana F...\n",
       "7247     @Bash Those are horrific. Totally destroys you...\n",
       "2387                        @theresev solen var inge varm \n",
       "1792     @eNiBeNi i would if i knew them  ed si que se ...\n",
       "2433     Carter Co, Kentucky has estblshd thier first p...\n",
       "3939     @PamJH yes, more than 150 people killed and a ...\n",
       "8345     Thinking of all the people in Italy and their ...\n",
       "8289     only 610 applications for GSOC from India and ...\n",
       "10819                  2-2 against a team we outshot 25-5 \n",
       "9593     Edward Cullen has B¥Ë_la Lugosi spinning in hi...\n",
       "12463                               @ToasterRodeo  agreed \n",
       "6928              The end of This is England was horrific \n",
       "Name: tweets, dtype: object"
      ]
     },
     "execution_count": 35,
     "metadata": {},
     "output_type": "execute_result"
    }
   ],
   "source": [
    "# print message text for the false positives\n",
    "X_test[y_test < y_pred_class]"
   ]
  },
  {
   "cell_type": "code",
   "execution_count": 36,
   "metadata": {
    "collapsed": false
   },
   "outputs": [
    {
     "data": {
      "text/plain": [
       "5773     @mawilner do you have any link of video about ...\n",
       "16346    @SimNasr I got it; I already deleted my tweet....\n",
       "6104     @WarReporter1 I dont think that Arab tribal le...\n",
       "13153                       @SaxHorse666 and my life too..\n",
       "10167                                   forgot my email :(\n",
       "3820     @DawlateMohamedi videos r frm fresh past and r...\n",
       "9773                @PalmyraRev1 thanks for your great job\n",
       "3769     Pakistan always come up with this : they drop ...\n",
       "15117    It wasn't totally ununderstandable that some w...\n",
       "12469    @WarReporter1 This is so dramatic. Drama, intr...\n",
       "8677     @syrmukhabarat @leithfadel very Dumb fanboy yo...\n",
       "4932     @7layers_ this is fantastic how they can move ...\n",
       "5222     Sweet is Revenge,                             ...\n",
       "14262    @support__7220 interview? what sort of interview?\n",
       "3314     You want to insult yourself as a cricketer? Ap...\n",
       "9732                  @Remy8289 lol. It's a guys only. Lol\n",
       "7807     If you are having a bad night tonight,guess wh...\n",
       "7700     @TRENDlNG_NEWS Its the way to go for future op...\n",
       "3074     @hubal_imara of course they're, I mean if anyo...\n",
       "2510     Chemical weapons as well as genetically modifi...\n",
       "2219     @angry_hassan any other day not this time, had...\n",
       "8035               @zzzzxx00 Yes I just saw it.. Thank you\n",
       "15988    RT @Nussra_E: and the reason was? no reason. S...\n",
       "5810     @ayishabaloch lol as if something written in a...\n",
       "9140     @travisg14 @RT_com Go watch Disney movie's you...\n",
       "7036     Only team to chase 150 + in this Asia Cup. Gue...\n",
       "8446     @ibnjabal740 see my TL akhi \\n i put it today,...\n",
       "7998     @Augiedamous I think so but I think his kuss g...\n",
       "6014     @Free_Media_Hub yoi guys are really fool or wa...\n",
       "8250                   @WarMonitor nope. it's for Windows.\n",
       "                               ...                        \n",
       "6602                Please kick me out of twitter. Thanks.\n",
       "6316                       @WeaboIsNEET not cute enough...\n",
       "8867     @desolder_pump Thankfully it's only because i ...\n",
       "1102     @9_11Musliimah So-called progressive kaffirs a...\n",
       "778      @IshaaqNewton have u read the previous tweet w...\n",
       "16133           @ninja9k indeed I'm totally agree with you\n",
       "8207       @PSchwartzstein Again; fuck yourself.. @twitter\n",
       "10522    Twitter treats me like I'm a chimpanzee twitti...\n",
       "16752    A day for a day and blood for blood bi ithnillaah\n",
       "6733     @FidaeeFulaani funny thing - tawagheet also ge...\n",
       "7024          @intlspectator OK we'll still eradicate them\n",
       "7702     @TRENDlNG_NEWS about 4.7 gigabytes. Its tricky...\n",
       "8629     @principalegg @guardian And you believe that w...\n",
       "9802     This speech was given around December 2007, th...\n",
       "236      @PRINCESSBAQIYA2 feeling safe for now! Feeling...\n",
       "13713    I love getting suspended just so I can come ba...\n",
       "8782     @PegELakeOzark Dream on Dream away that Will B...\n",
       "13967    When u get half naked hoes @ u 🙈 be like goodb...\n",
       "150      Those poor children lost their parents only to...\n",
       "16507    @Meynoor_Crown ofcourse mushreekin we make tak...\n",
       "6374     Turn it off so they can stay in the darkness o...\n",
       "7898     The things we take for granted,\\nsomeone else ...\n",
       "10482                                       @Milouse14 lol\n",
       "7237                   @MarwanTunsi___ Last year in autumn\n",
       "17160    @spicylatte123 you can sleep with education. B...\n",
       "10797    @Qashmier Who Elected or vtd Her ?????? She no...\n",
       "12994    RT @Saym3s: Listening to Quran with the sound ...\n",
       "16546    whose presence would induce the (white) campho...\n",
       "8663     @leithfadel hahah you are a dog who doesn't un...\n",
       "3921     RT @ShashiTharoor: Amused that trolls who have...\n",
       "Name: tweets, dtype: object"
      ]
     },
     "execution_count": 36,
     "metadata": {},
     "output_type": "execute_result"
    }
   ],
   "source": [
    "# print message text for the false negatives\n",
    "X_test[y_test > y_pred_class]"
   ]
  },
  {
   "cell_type": "code",
   "execution_count": 37,
   "metadata": {
    "collapsed": false
   },
   "outputs": [
    {
     "data": {
      "text/plain": [
       "'Hrm, scanner traffic diminishes greatly when your public services are on strike. '"
      ]
     },
     "execution_count": 37,
     "metadata": {},
     "output_type": "execute_result"
    }
   ],
   "source": [
    "#need to look into these false positives and false negatives\n",
    "X_test[10005]"
   ]
  },
  {
   "cell_type": "code",
   "execution_count": 39,
   "metadata": {
    "collapsed": true
   },
   "outputs": [],
   "source": [
    "#the classifier has a very high accuracy score - almost too good to be true - so who knows if it would work in real life\n",
    "#please email me with ideas and findings: dills_julia@bah.com"
   ]
  }
 ],
 "metadata": {
  "colab": {
   "default_view": {},
   "name": "5_word2vec.ipynb",
   "provenance": [],
   "version": "0.3.2",
   "views": {}
  },
  "kernelspec": {
   "display_name": "Python 3",
   "language": "python",
   "name": "python3"
  },
  "language_info": {
   "codemirror_mode": {
    "name": "ipython",
    "version": 3
   },
   "file_extension": ".py",
   "mimetype": "text/x-python",
   "name": "python",
   "nbconvert_exporter": "python",
   "pygments_lexer": "ipython3",
   "version": "3.5.2"
  }
 },
 "nbformat": 4,
 "nbformat_minor": 0
}
